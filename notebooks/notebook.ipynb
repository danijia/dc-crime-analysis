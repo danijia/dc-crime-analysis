{
 "cells": [
  {
   "cell_type": "code",
   "execution_count": 27,
   "id": "3a85df02",
   "metadata": {},
   "outputs": [
    {
     "name": "stderr",
     "output_type": "stream",
     "text": [
      "Matplotlib is building the font cache; this may take a moment.\n"
     ]
    }
   ],
   "source": [
    "import pandas as pd\n",
    "import matplotlib.pyplot as plt"
   ]
  },
  {
   "cell_type": "code",
   "execution_count": 9,
   "id": "709d4dc2",
   "metadata": {},
   "outputs": [],
   "source": [
    "# read csv\n",
    "df = pd.read_csv('/Users/xanijia/dc-crime-analysis/data/dc_crime_2025.csv')"
   ]
  },
  {
   "cell_type": "code",
   "execution_count": 10,
   "id": "6d7a87d8",
   "metadata": {},
   "outputs": [
    {
     "name": "stdout",
     "output_type": "stream",
     "text": [
      "             X            Y       CCN              REPORT_DAT     SHIFT  \\\n",
      "0  401833.7200  133509.8800  23164701  2025/07/02 04:00:00+00  MIDNIGHT   \n",
      "1  397867.9300  140010.2000  25077488  2025/05/25 03:11:30+00  MIDNIGHT   \n",
      "2  405684.5761  135633.8979  10133557  2025/06/30 04:00:00+00  MIDNIGHT   \n",
      "3  400588.4650  129470.0424   5131706  2025/02/05 05:00:00+00  MIDNIGHT   \n",
      "4  400840.6600  139142.9400  25000189  2025/01/01 11:25:02+00  MIDNIGHT   \n",
      "\n",
      "   METHOD       OFFENSE                                     BLOCK  \\\n",
      "0     GUN      HOMICIDE  1800 - 1809 BLOCK OF MINNESOTA AVENUE SE   \n",
      "1  OTHERS  THEFT F/AUTO       700 - 899 BLOCK OF COLUMBIA ROAD NW   \n",
      "2     GUN      HOMICIDE          4600 - 4699 BLOCK OF A STREET SE   \n",
      "3     GUN      HOMICIDE        800 - 899 BLOCK OF XENIA STREET SE   \n",
      "4  OTHERS   THEFT/OTHER    1000 - 1249 BLOCK OF BRENTWOOD ROAD NE   \n",
      "\n",
      "          XBLOCK         YBLOCK  ...  BLOCK_GROUP CENSUS_TRACT  \\\n",
      "0  401833.720000  133509.880000  ...     007601 3       7601.0   \n",
      "1  397867.930000  140010.200000  ...     003100 1       3100.0   \n",
      "2  405684.576067  135633.897851  ...     009906 1       9906.0   \n",
      "3  400588.464990  129470.042358  ...     009801 1       9801.0   \n",
      "4  400840.660000  139142.940000  ...     009102 3       9102.0   \n",
      "\n",
      "   VOTING_PRECINCT   LATITUDE  LONGITUDE  BID              START_DATE  \\\n",
      "0     Precinct 133  38.869411 -76.978870  NaN  2023/10/06 04:59:00+00   \n",
      "1      Precinct 37  38.927967 -77.024589  NaN  2025/05/18 22:00:00+00   \n",
      "2     Precinct 104  38.888528 -76.934478  NaN  2010/09/15 00:45:00+00   \n",
      "3     Precinct 121  38.833020 -76.993222  NaN  2005/09/27 07:25:00+00   \n",
      "4      Precinct 72  38.920157 -76.990306  NaN  2025/01/01 11:06:00+00   \n",
      "\n",
      "                 END_DATE   OBJECTID  OCTO_RECORD_ID  \n",
      "0                     NaN  788695369             NaN  \n",
      "1  2025/05/19 15:00:00+00  788708276             NaN  \n",
      "2  2010/09/14 04:00:00+00  788710335             NaN  \n",
      "3  2005/09/27 07:26:00+00  788710341             NaN  \n",
      "4  2025/01/01 11:23:00+00  788935228             NaN  \n",
      "\n",
      "[5 rows x 25 columns]\n"
     ]
    }
   ],
   "source": [
    "# print first 5 rows of df \n",
    "print(df.head())"
   ]
  },
  {
   "cell_type": "code",
   "execution_count": null,
   "id": "c1442123",
   "metadata": {},
   "outputs": [
    {
     "name": "stdout",
     "output_type": "stream",
     "text": [
      "Index(['X', 'Y', 'CCN', 'REPORT_DAT', 'SHIFT', 'METHOD', 'OFFENSE', 'BLOCK',\n",
      "       'XBLOCK', 'YBLOCK', 'WARD', 'ANC', 'DISTRICT', 'PSA',\n",
      "       'NEIGHBORHOOD_CLUSTER', 'BLOCK_GROUP', 'CENSUS_TRACT',\n",
      "       'VOTING_PRECINCT', 'LATITUDE', 'LONGITUDE', 'BID', 'START_DATE',\n",
      "       'END_DATE', 'OBJECTID', 'OCTO_RECORD_ID'],\n",
      "      dtype='object')\n"
     ]
    }
   ],
   "source": [
    "# print columns\n",
    "print(df.columns)"
   ]
  },
  {
   "cell_type": "code",
   "execution_count": 14,
   "id": "3f523b14",
   "metadata": {},
   "outputs": [
    {
     "name": "stdout",
     "output_type": "stream",
     "text": [
      "                 x            y       ccn              report_dat     shift  \\\n",
      "0      401833.7200  133509.8800  23164701  2025/07/02 04:00:00+00  MIDNIGHT   \n",
      "1      397867.9300  140010.2000  25077488  2025/05/25 03:11:30+00  MIDNIGHT   \n",
      "2      405684.5761  135633.8979  10133557  2025/06/30 04:00:00+00  MIDNIGHT   \n",
      "3      400588.4650  129470.0424   5131706  2025/02/05 05:00:00+00  MIDNIGHT   \n",
      "4      400840.6600  139142.9400  25000189  2025/01/01 11:25:02+00  MIDNIGHT   \n",
      "...            ...          ...       ...                     ...       ...   \n",
      "16808  398316.2200  137857.0900  25423718  2025/08/27 20:01:58+00   EVENING   \n",
      "16809  397660.8800  142303.2500  25423723  2025/08/27 21:02:24+00   EVENING   \n",
      "16810  397005.3500  138854.8800  25423722  2025/08/27 21:02:19+00   EVENING   \n",
      "16811  397633.4300  144615.4200  25130691  2025/08/27 15:30:40+00       DAY   \n",
      "16812  397171.1100  137408.2500  25130918  2025/08/27 23:57:05+00   EVENING   \n",
      "\n",
      "       method       offense                                     block  \\\n",
      "0         GUN      HOMICIDE  1800 - 1809 BLOCK OF MINNESOTA AVENUE SE   \n",
      "1      OTHERS  THEFT F/AUTO       700 - 899 BLOCK OF COLUMBIA ROAD NW   \n",
      "2         GUN      HOMICIDE          4600 - 4699 BLOCK OF A STREET SE   \n",
      "3         GUN      HOMICIDE        800 - 899 BLOCK OF XENIA STREET SE   \n",
      "4      OTHERS   THEFT/OTHER    1000 - 1249 BLOCK OF BRENTWOOD ROAD NE   \n",
      "...       ...           ...                                       ...   \n",
      "16808  OTHERS  THEFT F/AUTO            500 - 599 BLOCK OF O STREET NW   \n",
      "16809  OTHERS   THEFT/OTHER    4800 - 4817 BLOCK OF GEORGIA AVENUE NW   \n",
      "16810  OTHERS   THEFT/OTHER       2000 - 2099 BLOCK OF 15TH STREET NW   \n",
      "16811  OTHERS   THEFT/OTHER    6500 - 6599 BLOCK OF GEORGIA AVENUE NW   \n",
      "16812  OTHERS   THEFT/OTHER    1100 - 1199 BLOCK OF VERMONT AVENUE NW   \n",
      "\n",
      "              xblock         yblock  ...  block_group census_tract  \\\n",
      "0      401833.720000  133509.880000  ...     007601 3       7601.0   \n",
      "1      397867.930000  140010.200000  ...     003100 1       3100.0   \n",
      "2      405684.576067  135633.897851  ...     009906 1       9906.0   \n",
      "3      400588.464990  129470.042358  ...     009801 1       9801.0   \n",
      "4      400840.660000  139142.940000  ...     009102 3       9102.0   \n",
      "...              ...            ...  ...          ...          ...   \n",
      "16808  398316.220000  137857.090000  ...     004801 3       4801.0   \n",
      "16809  397660.880000  142303.250000  ...     002002 1       2002.0   \n",
      "16810  397005.350000  138854.880000  ...     004300 3       4300.0   \n",
      "16811  397633.430000  144615.420000  ...     001804 2       1804.0   \n",
      "16812  397171.110000  137408.250000  ...     010100 3      10100.0   \n",
      "\n",
      "       voting_precinct   latitude  longitude       bid  \\\n",
      "0         Precinct 133  38.869411 -76.978870       NaN   \n",
      "1          Precinct 37  38.927967 -77.024589       NaN   \n",
      "2         Precinct 104  38.888528 -76.934478       NaN   \n",
      "3         Precinct 121  38.833020 -76.993222       NaN   \n",
      "4          Precinct 72  38.920157 -76.990306       NaN   \n",
      "...                ...        ...        ...       ...   \n",
      "16808      Precinct 18  38.908572 -77.019413       NaN   \n",
      "16809      Precinct 54  38.948623 -77.026984       NaN   \n",
      "16810      Precinct 22  38.917557 -77.034531       NaN   \n",
      "16811      Precinct 61  38.969452 -77.027309       NaN   \n",
      "16812      Precinct 17  38.904526 -77.032614  DOWNTOWN   \n",
      "\n",
      "                   start_date                end_date   objectid  \\\n",
      "0      2023/10/06 04:59:00+00                     NaN  788695369   \n",
      "1      2025/05/18 22:00:00+00  2025/05/19 15:00:00+00  788708276   \n",
      "2      2010/09/15 00:45:00+00  2010/09/14 04:00:00+00  788710335   \n",
      "3      2005/09/27 07:25:00+00  2005/09/27 07:26:00+00  788710341   \n",
      "4      2025/01/01 11:06:00+00  2025/01/01 11:23:00+00  788935228   \n",
      "...                       ...                     ...        ...   \n",
      "16808  2025/08/27 02:00:00+00  2025/08/27 09:00:00+00  789271937   \n",
      "16809  2025/08/18 22:25:00+00  2025/08/18 23:00:00+00  789271938   \n",
      "16810  2025/08/21 19:47:00+00  2025/08/21 19:59:00+00  789271940   \n",
      "16811  2025/08/27 14:49:00+00  2025/08/27 14:50:00+00  789271941   \n",
      "16812  2025/08/27 23:13:00+00  2025/08/27 23:26:00+00  789271942   \n",
      "\n",
      "       octo_record_id  \n",
      "0                 NaN  \n",
      "1                 NaN  \n",
      "2                 NaN  \n",
      "3                 NaN  \n",
      "4                 NaN  \n",
      "...               ...  \n",
      "16808             NaN  \n",
      "16809             NaN  \n",
      "16810             NaN  \n",
      "16811             NaN  \n",
      "16812             NaN  \n",
      "\n",
      "[16813 rows x 25 columns]\n"
     ]
    }
   ],
   "source": [
    "# make columns lowercase\n",
    "df.columns = [x.lower() for x in df.columns]\n",
    "\n",
    "\n",
    "print(df)"
   ]
  },
  {
   "cell_type": "code",
   "execution_count": 15,
   "id": "bc66d0de",
   "metadata": {},
   "outputs": [],
   "source": [
    "# select columns ccn, report_date, shift, method, offense, ward, district, neighborhood_cluster, start_date, and end_date\n",
    "new_df = df.iloc[:, [2,3,4,5,6,10, 12, 14, 21, 22]]"
   ]
  },
  {
   "cell_type": "code",
   "execution_count": null,
   "id": "ad400f56",
   "metadata": {},
   "outputs": [],
   "source": [
    "# save new df to a new csv \n",
    "new_df.to_csv('dc_crime_2025_new.csv')"
   ]
  },
  {
   "cell_type": "code",
   "execution_count": 16,
   "id": "30852cfa",
   "metadata": {},
   "outputs": [
    {
     "name": "stdout",
     "output_type": "stream",
     "text": [
      "        ccn              report_dat     shift  method       offense  ward  \\\n",
      "0  23164701  2025/07/02 04:00:00+00  MIDNIGHT     GUN      HOMICIDE   8.0   \n",
      "1  25077488  2025/05/25 03:11:30+00  MIDNIGHT  OTHERS  THEFT F/AUTO   1.0   \n",
      "2  10133557  2025/06/30 04:00:00+00  MIDNIGHT     GUN      HOMICIDE   7.0   \n",
      "3   5131706  2025/02/05 05:00:00+00  MIDNIGHT     GUN      HOMICIDE   8.0   \n",
      "4  25000189  2025/01/01 11:25:02+00  MIDNIGHT  OTHERS   THEFT/OTHER   5.0   \n",
      "\n",
      "   district neighborhood_cluster              start_date  \\\n",
      "0       6.0           Cluster 34  2023/10/06 04:59:00+00   \n",
      "1       3.0            Cluster 2  2025/05/18 22:00:00+00   \n",
      "2       6.0           Cluster 33  2010/09/15 00:45:00+00   \n",
      "3       7.0           Cluster 39  2005/09/27 07:25:00+00   \n",
      "4       5.0           Cluster 22  2025/01/01 11:06:00+00   \n",
      "\n",
      "                 end_date  \n",
      "0                     NaN  \n",
      "1  2025/05/19 15:00:00+00  \n",
      "2  2010/09/14 04:00:00+00  \n",
      "3  2005/09/27 07:26:00+00  \n",
      "4  2025/01/01 11:23:00+00  \n"
     ]
    }
   ],
   "source": [
    "# print first 5 rows of new_df\n",
    "print(new_df.head())"
   ]
  },
  {
   "cell_type": "code",
   "execution_count": 25,
   "id": "78ec5bb1",
   "metadata": {},
   "outputs": [
    {
     "name": "stdout",
     "output_type": "stream",
     "text": [
      "       ward     shift  method       offense\n",
      "0       8.0  MIDNIGHT     GUN      HOMICIDE\n",
      "1       1.0  MIDNIGHT  OTHERS  THEFT F/AUTO\n",
      "2       7.0  MIDNIGHT     GUN      HOMICIDE\n",
      "3       8.0  MIDNIGHT     GUN      HOMICIDE\n",
      "4       5.0  MIDNIGHT  OTHERS   THEFT/OTHER\n",
      "...     ...       ...     ...           ...\n",
      "16808   2.0   EVENING  OTHERS  THEFT F/AUTO\n",
      "16809   4.0   EVENING  OTHERS   THEFT/OTHER\n",
      "16810   1.0   EVENING  OTHERS   THEFT/OTHER\n",
      "16811   4.0       DAY  OTHERS   THEFT/OTHER\n",
      "16812   2.0   EVENING  OTHERS   THEFT/OTHER\n",
      "\n",
      "[16813 rows x 4 columns]\n"
     ]
    }
   ],
   "source": [
    "ward_shift_method_offense = new_df.loc[:, ['ward', 'shift', 'method', 'offense']]\n",
    "print(ward_shift_method_offense)\n"
   ]
  },
  {
   "cell_type": "code",
   "execution_count": null,
   "id": "3e5f41ae",
   "metadata": {},
   "outputs": [],
   "source": []
  }
 ],
 "metadata": {
  "kernelspec": {
   "display_name": ".venv",
   "language": "python",
   "name": "python3"
  },
  "language_info": {
   "codemirror_mode": {
    "name": "ipython",
    "version": 3
   },
   "file_extension": ".py",
   "mimetype": "text/x-python",
   "name": "python",
   "nbconvert_exporter": "python",
   "pygments_lexer": "ipython3",
   "version": "3.9.6"
  }
 },
 "nbformat": 4,
 "nbformat_minor": 5
}
