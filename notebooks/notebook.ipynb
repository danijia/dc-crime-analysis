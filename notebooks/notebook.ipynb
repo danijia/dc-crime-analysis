{
 "cells": [
  {
   "cell_type": "code",
   "execution_count": 1,
   "id": "3a85df02",
   "metadata": {},
   "outputs": [],
   "source": [
    "import pandas as pd"
   ]
  },
  {
   "cell_type": "markdown",
   "id": "7b31a889",
   "metadata": {},
   "source": [
    "read csv"
   ]
  },
  {
   "cell_type": "code",
   "execution_count": null,
   "id": "709d4dc2",
   "metadata": {},
   "outputs": [],
   "source": [
    "df = pd.read_csv('dc_crime_2025.csv')"
   ]
  },
  {
   "cell_type": "code",
   "execution_count": 20,
   "id": "6d7a87d8",
   "metadata": {},
   "outputs": [
    {
     "name": "stdout",
     "output_type": "stream",
     "text": [
      "             X            Y       CCN              REPORT_DAT     SHIFT  \\\n",
      "0  401833.7200  133509.8800  23164701  2025/07/02 04:00:00+00  MIDNIGHT   \n",
      "1  397867.9300  140010.2000  25077488  2025/05/25 03:11:30+00  MIDNIGHT   \n",
      "2  405684.5761  135633.8979  10133557  2025/06/30 04:00:00+00  MIDNIGHT   \n",
      "3  400588.4650  129470.0424   5131706  2025/02/05 05:00:00+00  MIDNIGHT   \n",
      "4  400840.6600  139142.9400  25000189  2025/01/01 11:25:02+00  MIDNIGHT   \n",
      "\n",
      "   METHOD       OFFENSE                                     BLOCK  \\\n",
      "0     GUN      HOMICIDE  1800 - 1809 BLOCK OF MINNESOTA AVENUE SE   \n",
      "1  OTHERS  THEFT F/AUTO       700 - 899 BLOCK OF COLUMBIA ROAD NW   \n",
      "2     GUN      HOMICIDE          4600 - 4699 BLOCK OF A STREET SE   \n",
      "3     GUN      HOMICIDE        800 - 899 BLOCK OF XENIA STREET SE   \n",
      "4  OTHERS   THEFT/OTHER    1000 - 1249 BLOCK OF BRENTWOOD ROAD NE   \n",
      "\n",
      "          XBLOCK         YBLOCK  ...  BLOCK_GROUP CENSUS_TRACT  \\\n",
      "0  401833.720000  133509.880000  ...     007601 3       7601.0   \n",
      "1  397867.930000  140010.200000  ...     003100 1       3100.0   \n",
      "2  405684.576067  135633.897851  ...     009906 1       9906.0   \n",
      "3  400588.464990  129470.042358  ...     009801 1       9801.0   \n",
      "4  400840.660000  139142.940000  ...     009102 3       9102.0   \n",
      "\n",
      "   VOTING_PRECINCT   LATITUDE  LONGITUDE  BID              START_DATE  \\\n",
      "0     Precinct 133  38.869411 -76.978870  NaN  2023/10/06 04:59:00+00   \n",
      "1      Precinct 37  38.927967 -77.024589  NaN  2025/05/18 22:00:00+00   \n",
      "2     Precinct 104  38.888528 -76.934478  NaN  2010/09/15 00:45:00+00   \n",
      "3     Precinct 121  38.833020 -76.993222  NaN  2005/09/27 07:25:00+00   \n",
      "4      Precinct 72  38.920157 -76.990306  NaN  2025/01/01 11:06:00+00   \n",
      "\n",
      "                 END_DATE   OBJECTID  OCTO_RECORD_ID  \n",
      "0                     NaN  788695369             NaN  \n",
      "1  2025/05/19 15:00:00+00  788708276             NaN  \n",
      "2  2010/09/14 04:00:00+00  788710335             NaN  \n",
      "3  2005/09/27 07:26:00+00  788710341             NaN  \n",
      "4  2025/01/01 11:23:00+00  788935228             NaN  \n",
      "\n",
      "[5 rows x 25 columns]\n"
     ]
    }
   ],
   "source": [
    "print(df.head())"
   ]
  },
  {
   "cell_type": "code",
   "execution_count": 6,
   "id": "bc66d0de",
   "metadata": {},
   "outputs": [],
   "source": [
    "new_df = df.iloc[:, [2,3,4,5,6,10, 12, 14, 21, 22]]"
   ]
  },
  {
   "cell_type": "code",
   "execution_count": null,
   "id": "ad400f56",
   "metadata": {},
   "outputs": [],
   "source": [
    "# save new df to a new csv \n",
    "new_df.to_csv('dc_crime_2025_new.csv')"
   ]
  },
  {
   "cell_type": "code",
   "execution_count": 8,
   "id": "30852cfa",
   "metadata": {},
   "outputs": [
    {
     "name": "stdout",
     "output_type": "stream",
     "text": [
      "        CCN              REPORT_DAT     SHIFT  METHOD       OFFENSE  WARD  \\\n",
      "0  23164701  2025/07/02 04:00:00+00  MIDNIGHT     GUN      HOMICIDE   8.0   \n",
      "1  25077488  2025/05/25 03:11:30+00  MIDNIGHT  OTHERS  THEFT F/AUTO   1.0   \n",
      "2  10133557  2025/06/30 04:00:00+00  MIDNIGHT     GUN      HOMICIDE   7.0   \n",
      "3   5131706  2025/02/05 05:00:00+00  MIDNIGHT     GUN      HOMICIDE   8.0   \n",
      "4  25000189  2025/01/01 11:25:02+00  MIDNIGHT  OTHERS   THEFT/OTHER   5.0   \n",
      "\n",
      "   DISTRICT NEIGHBORHOOD_CLUSTER              START_DATE  \\\n",
      "0       6.0           Cluster 34  2023/10/06 04:59:00+00   \n",
      "1       3.0            Cluster 2  2025/05/18 22:00:00+00   \n",
      "2       6.0           Cluster 33  2010/09/15 00:45:00+00   \n",
      "3       7.0           Cluster 39  2005/09/27 07:25:00+00   \n",
      "4       5.0           Cluster 22  2025/01/01 11:06:00+00   \n",
      "\n",
      "                 END_DATE  \n",
      "0                     NaN  \n",
      "1  2025/05/19 15:00:00+00  \n",
      "2  2010/09/14 04:00:00+00  \n",
      "3  2005/09/27 07:26:00+00  \n",
      "4  2025/01/01 11:23:00+00  \n"
     ]
    }
   ],
   "source": [
    "print(new_df.head())"
   ]
  }
 ],
 "metadata": {
  "kernelspec": {
   "display_name": ".venv",
   "language": "python",
   "name": "python3"
  },
  "language_info": {
   "codemirror_mode": {
    "name": "ipython",
    "version": 3
   },
   "file_extension": ".py",
   "mimetype": "text/x-python",
   "name": "python",
   "nbconvert_exporter": "python",
   "pygments_lexer": "ipython3",
   "version": "3.12.4"
  }
 },
 "nbformat": 4,
 "nbformat_minor": 5
}
